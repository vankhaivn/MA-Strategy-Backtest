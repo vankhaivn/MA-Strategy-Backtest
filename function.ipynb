{
 "cells": [
  {
   "cell_type": "code",
   "execution_count": 20,
   "metadata": {},
   "outputs": [],
   "source": [
    "import numpy as np\n",
    "import pandas as pd\n",
    "import matplotlib.pyplot as plt\n",
    "import seaborn as sns\n",
    "import vnstock\n",
    "from datetime import datetime"
   ]
  },
  {
   "cell_type": "code",
   "execution_count": null,
   "metadata": {},
   "outputs": [],
   "source": [
    "start_date = \"2016-01-01\"\n",
    "end_date = \"2023-08-18\"\n",
    "start_datetime = datetime.strptime(start_date, '%Y-%m-%d')\n",
    "end_datetime = datetime.strptime(end_date, '%Y-%m-%d')\n",
    "duration = (end_datetime - start_datetime).days\n",
    "df = vnstock.stock_historical_data(\"ACB\", start_date, end_date, \"1D\", 'stock')\n",
    "df.head()"
   ]
  },
  {
   "cell_type": "code",
   "execution_count": null,
   "metadata": {},
   "outputs": [],
   "source": [
    "features = ['close']\n",
    "df = df[features]\n",
    "df.rename(columns={'close': 'price'}, inplace=True)\n",
    "df.head()"
   ]
  },
  {
   "cell_type": "code",
   "execution_count": null,
   "metadata": {},
   "outputs": [],
   "source": [
    "plt.figure(figsize=(12,6))\n",
    "plt.plot(df['price'])\n",
    "plt.grid(True)\n",
    "plt.show()"
   ]
  },
  {
   "cell_type": "code",
   "execution_count": 24,
   "metadata": {},
   "outputs": [],
   "source": [
    "def MA_value(day, index, df):\n",
    "    MA_v = 0\n",
    "    for i in range(index-day+1, index+1):\n",
    "        MA_v = MA_v + df['price'][i]\n",
    "    MA_v = MA_v/day\n",
    "    return MA_v"
   ]
  },
  {
   "cell_type": "code",
   "execution_count": null,
   "metadata": {},
   "outputs": [],
   "source": [
    "MA_day_list = [5, 10, 20, 50, 200]\n",
    "for MA_day in MA_day_list:\n",
    "    df['MA'+str(MA_day)] = \"\"\n",
    "    for index in range(len(df)):\n",
    "        if index < MA_day:\n",
    "            df['MA'+str(MA_day)][index] = 0\n",
    "        else:\n",
    "            df['MA'+str(MA_day)][index] = MA_value(MA_day, index, df)\n",
    "    "
   ]
  },
  {
   "cell_type": "code",
   "execution_count": null,
   "metadata": {},
   "outputs": [],
   "source": [
    "plt.figure(figsize=(12,6))\n",
    "plt.plot(df['price'][1800:], label='price', linewidth=3)\n",
    "for MA_day in MA_day_list:\n",
    "    plt.plot(df['MA'+str(MA_day)][1800:], label='MA'+str(MA_day))\n",
    "plt.grid(True)\n",
    "plt.legend()\n",
    "plt.show()"
   ]
  },
  {
   "cell_type": "code",
   "execution_count": 27,
   "metadata": {},
   "outputs": [],
   "source": [
    "def check_condition_valid(conditions, row):\n",
    "    for condition in conditions:\n",
    "        if row['MA'+str(condition)] == 0:\n",
    "            return False\n",
    "    return True\n",
    "\n",
    "def check_conditions_actived(conditions, row):\n",
    "    for condition in conditions:\n",
    "        if row['price'] < row['MA'+str(condition)]:\n",
    "            return False\n",
    "    return True\n",
    "\n",
    "def check_conditions_unactived(conditions, row):\n",
    "    for condition in conditions:\n",
    "        if row['price'] > row['MA'+str(condition)]:\n",
    "            return False\n",
    "    return True"
   ]
  },
  {
   "cell_type": "code",
   "execution_count": 28,
   "metadata": {},
   "outputs": [],
   "source": [
    "command = pd.DataFrame({'buy_index':[], 'buy_price':[], 'sell_index':[], 'sell_price':[], 'profit_(%)':[], 'holding_days':[]})"
   ]
  },
  {
   "cell_type": "code",
   "execution_count": null,
   "metadata": {},
   "outputs": [],
   "source": [
    "conditions = [5, 10, 20, 50, 200]\n",
    "for index, row in df.iterrows():\n",
    "    if check_condition_valid(conditions, row) == False:\n",
    "        continue\n",
    "    elif check_conditions_actived(conditions, row):\n",
    "        new_command = {'buy_index': index, 'buy_price': row['price']}\n",
    "        command = pd.concat([command, pd.DataFrame([new_command])], ignore_index=True)\n",
    "command.head()"
   ]
  },
  {
   "cell_type": "code",
   "execution_count": null,
   "metadata": {},
   "outputs": [],
   "source": [
    "command_index = 0\n",
    "while command_index < len(command):\n",
    "    for i in range(int(command.iloc[command_index]['buy_index']), len(df)):\n",
    "        if check_conditions_unactived(conditions, df.iloc[i]):\n",
    "            buy_price = command.iloc[command_index]['buy_price']\n",
    "            sell_price = df.iloc[i]['price']\n",
    "            command.loc[command_index, 'sell_index'] = i\n",
    "            command.loc[command_index, 'sell_price'] = sell_price\n",
    "            command.loc[command_index, 'profit_(%)'] = round((sell_price-buy_price)/buy_price*100, 2)\n",
    "            command.loc[command_index, 'holding_days'] = i - command.iloc[command_index]['buy_index']\n",
    "            break\n",
    "    command_index = command_index + 1\n",
    "command.head(10)"
   ]
  },
  {
   "cell_type": "code",
   "execution_count": null,
   "metadata": {},
   "outputs": [],
   "source": [
    "command = command.drop(command[command.duplicated(subset=['sell_index'])].index)\n",
    "command = command.reset_index(drop=True)\n",
    "command.head(20)"
   ]
  },
  {
   "cell_type": "code",
   "execution_count": null,
   "metadata": {},
   "outputs": [],
   "source": [
    "last_command_index = len(command) - 1 # we can't use -1 because it will create a new command with index -1\n",
    "if pd.isna(command.iloc[last_command_index]['sell_index']):\n",
    "    command.loc[last_command_index, 'sell_index'] = len(df) - 1\n",
    "    command.loc[last_command_index, 'sell_price'] = df.iloc[-1]['price']\n",
    "    command.loc[last_command_index, 'profit_(%)'] = round((df.iloc[-1]['price']-command.iloc[last_command_index]['buy_price'])/command.iloc[last_command_index]['buy_price']*100, 2)\n",
    "    command.loc[last_command_index, 'holding_days'] = len(df) - 1 - command.iloc[-1]['buy_index']\n",
    "command.tail()"
   ]
  },
  {
   "cell_type": "code",
   "execution_count": null,
   "metadata": {},
   "outputs": [],
   "source": [
    "df.loc[1561:1566]"
   ]
  },
  {
   "cell_type": "code",
   "execution_count": null,
   "metadata": {},
   "outputs": [],
   "source": [
    "total_command = len(command)\n",
    "total_holding_days = int(command['holding_days'].sum())\n",
    "average_holding_days = round(total_holding_days/total_command, 2)\n",
    "total_profit = round(command['profit_(%)'].sum(), 2)\n",
    "average_profit = round(total_profit/total_command, 2)\n",
    "profit_per_year = round(total_profit/(duration/365), 2)\n",
    "\n",
    "print(\"Total of commands: \", total_command, \"commands\")\n",
    "print(\"Total of holding days: \", total_holding_days, \"days\")\n",
    "print(\"Average number of days holding a command: \", average_holding_days, \"days\")\n",
    "print(\"Total profit (%): \", total_profit, \"%\")\n",
    "print(\"Average profit (%) of a command: \", average_profit, \"%\")\n",
    "print(\"Profit (%) per year: \", profit_per_year, '% per year')"
   ]
  }
 ],
 "metadata": {
  "kernelspec": {
   "display_name": "Python 3",
   "language": "python",
   "name": "python3"
  },
  "language_info": {
   "codemirror_mode": {
    "name": "ipython",
    "version": 3
   },
   "file_extension": ".py",
   "mimetype": "text/x-python",
   "name": "python",
   "nbconvert_exporter": "python",
   "pygments_lexer": "ipython3",
   "version": "3.11.4"
  },
  "orig_nbformat": 4
 },
 "nbformat": 4,
 "nbformat_minor": 2
}
