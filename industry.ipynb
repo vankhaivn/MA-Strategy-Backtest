{
 "cells": [
  {
   "cell_type": "code",
   "execution_count": 4,
   "metadata": {},
   "outputs": [],
   "source": [
    "import numpy as np\n",
    "import pandas as pd\n",
    "import matplotlib.pyplot as plt\n",
    "import seaborn as sns\n",
    "import vnstock\n",
    "from datetime import datetime"
   ]
  },
  {
   "cell_type": "code",
   "execution_count": 5,
   "metadata": {},
   "outputs": [],
   "source": [
    "def MA_value(day, index, df):\n",
    "    MA_v = 0\n",
    "    for i in range(index-day+1, index+1):\n",
    "        MA_v = MA_v + df['price'][i]\n",
    "    MA_v = MA_v/day\n",
    "    return MA_v\n",
    "\n",
    "def check_condition_valid(conditions, row):\n",
    "    for condition in conditions:\n",
    "        if row['MA'+str(condition)] == 0:\n",
    "            return False\n",
    "    return True\n",
    "\n",
    "def check_conditions_actived(conditions, row):\n",
    "    for condition in conditions:\n",
    "        if row['price'] < row['MA'+str(condition)]:\n",
    "            return False\n",
    "    return True\n",
    "\n",
    "def check_conditions_unactived(conditions, row):\n",
    "    for condition in conditions:\n",
    "        if row['price'] > row['MA'+str(condition)]:\n",
    "            return False\n",
    "    return True"
   ]
  },
  {
   "cell_type": "code",
   "execution_count": 6,
   "metadata": {},
   "outputs": [],
   "source": [
    "def strategy_function(stock, start_date, end_date):\n",
    "    df = vnstock.stock_historical_data(stock, start_date, end_date, \"1D\", 'stock')\n",
    "    features = ['close']\n",
    "    df = df[features]\n",
    "    df.rename(columns={'close': 'price'}, inplace=True)\n",
    "\n",
    "    MA_day_list = [5, 10, 20, 50, 200]\n",
    "    for MA_day in MA_day_list:\n",
    "        df['MA'+str(MA_day)] = \"\"\n",
    "        for index in range(len(df)):\n",
    "            if index < MA_day:\n",
    "                df['MA'+str(MA_day)][index] = 0\n",
    "            else:\n",
    "                df['MA'+str(MA_day)][index] = MA_value(MA_day, index, df)\n",
    "\n",
    "    command = pd.DataFrame({'buy_index':[], 'buy_price':[], 'sell_index':[], 'sell_price':[], 'profit_(%)':[], 'holding_days':[]})\n",
    "    conditions = [5, 10, 20, 50, 200]\n",
    "    for index, row in df.iterrows():\n",
    "        if check_condition_valid(conditions, row) == False:\n",
    "            continue\n",
    "        elif check_conditions_actived(conditions, row):\n",
    "            new_command = {'buy_index': index, 'buy_price': row['price']}\n",
    "            command = pd.concat([command, pd.DataFrame([new_command])], ignore_index=True)\n",
    "    \n",
    "    command_index = 0\n",
    "    while command_index < len(command):\n",
    "        for i in range(int(command.iloc[command_index]['buy_index']), len(df)):\n",
    "            if check_conditions_unactived(conditions, df.iloc[i]):\n",
    "                buy_price = command.iloc[command_index]['buy_price']\n",
    "                sell_price = df.iloc[i]['price']\n",
    "                command.loc[command_index, 'sell_index'] = i\n",
    "                command.loc[command_index, 'sell_price'] = sell_price\n",
    "                command.loc[command_index, 'profit_(%)'] = round((sell_price-buy_price)/buy_price*100, 2)\n",
    "                command.loc[command_index, 'holding_days'] = i - command.iloc[command_index]['buy_index']\n",
    "                break\n",
    "        command_index = command_index + 1\n",
    "    \n",
    "    command = command.drop(command[command.duplicated(subset=['sell_index'])].index)\n",
    "    command = command.reset_index(drop=True)\n",
    "\n",
    "    last_command_index = len(command) - 1 # we can't use -1 because it will create a new command with index -1\n",
    "    if pd.isna(command.iloc[last_command_index]['sell_index']):\n",
    "        command.loc[last_command_index, 'sell_index'] = len(df) - 1\n",
    "        command.loc[last_command_index, 'sell_price'] = df.iloc[-1]['price']\n",
    "        command.loc[last_command_index, 'profit_(%)'] = round((df.iloc[-1]['price']-command.iloc[last_command_index]['buy_price'])/command.iloc[last_command_index]['buy_price']*100, 2)\n",
    "        command.loc[last_command_index, 'holding_days'] = len(df) - 1 - command.iloc[-1]['buy_index']\n",
    "        \n",
    "    total_command = len(command)\n",
    "    total_holding_days = int(command['holding_days'].sum())\n",
    "    average_holding_days = round(total_holding_days/total_command, 2)\n",
    "    total_profit = round(command['profit_(%)'].sum(), 2)\n",
    "    average_profit = round(total_profit/total_command, 2)\n",
    "\n",
    "    result = {'stock': stock, 'total_command': total_command, 'total_holding_days': total_holding_days, 'average_holding_days': average_holding_days, 'total_profit': total_profit, 'average_profit': average_profit}\n",
    "    return result"
   ]
  },
  {
   "cell_type": "code",
   "execution_count": null,
   "metadata": {},
   "outputs": [],
   "source": [
    "start_date = \"2016-01-01\"\n",
    "end_date = \"2023-08-18\"\n",
    "start_datetime = datetime.strptime(start_date, '%Y-%m-%d')\n",
    "end_datetime = datetime.strptime(end_date, '%Y-%m-%d')\n",
    "duration = (end_datetime - start_datetime).days\n",
    "industry = vnstock.industry_analysis(\"ACB\", lang='vi').columns\n",
    "print(industry)"
   ]
  },
  {
   "cell_type": "code",
   "execution_count": 8,
   "metadata": {},
   "outputs": [],
   "source": [
    "industry_df = pd.DataFrame({'stock': [], 'total_command': [], 'total_holding_days': [], 'average_holding_days': [], 'total_profit': []})"
   ]
  },
  {
   "cell_type": "code",
   "execution_count": null,
   "metadata": {},
   "outputs": [],
   "source": [
    "for stock in industry:\n",
    "    result = strategy_function(stock, start_date, end_date)\n",
    "    industry_df = pd.concat([industry_df, pd.DataFrame([result])], ignore_index = True)"
   ]
  },
  {
   "cell_type": "code",
   "execution_count": 10,
   "metadata": {},
   "outputs": [],
   "source": [
    "industry_df = industry_df.sort_values(by='total_profit', ascending=False)\n",
    "industry_df = industry_df.reset_index(drop=True)"
   ]
  },
  {
   "cell_type": "code",
   "execution_count": null,
   "metadata": {},
   "outputs": [],
   "source": [
    "industry_df"
   ]
  },
  {
   "cell_type": "code",
   "execution_count": 22,
   "metadata": {},
   "outputs": [],
   "source": [
    "def high_low(industry_df, feature):\n",
    "    np_array = np.array(industry_df[feature].values)\n",
    "    mean = round(np.mean(np_array), 2)\n",
    "    high = round(mean + np.std(np_array), 2)\n",
    "    low = round(mean - np.std(np_array), 2)\n",
    "    return [high, mean, low]"
   ]
  },
  {
   "cell_type": "code",
   "execution_count": null,
   "metadata": {},
   "outputs": [],
   "source": [
    "fig, ax1 = plt.subplots(figsize=(18, 7))\n",
    "\n",
    "sns.barplot(data=industry_df, x='stock', y='total_profit', color='#69b3a2')\n",
    "ax1.set_xlabel('Stock', fontsize=14)\n",
    "ax1.set_ylabel('Total Profit (%)', fontsize=14)\n",
    "\n",
    "for index, row in industry_df.iterrows():\n",
    "    plt.text(index, row['total_profit'], str(row['total_profit']) + '%', ha='center', va='bottom')\n",
    "    if index < 9:\n",
    "        plt.text(index, row['total_profit'] / 2, str(round(row['total_profit']/(duration/365), 2)) + '% per year', rotation='vertical', ha='center', va='center')\n",
    "ax2 = ax1.twinx()\n",
    "sns.lineplot(data=industry_df, x='stock', y='total_command', marker='o', color='tab:blue', ax=ax2)\n",
    "ax2.set_ylabel('Total Command', fontsize=14)\n",
    "\n",
    "high = high_low(industry_df, \"total_profit\")[0]\n",
    "mean = high_low(industry_df, \"total_profit\")[1]\n",
    "low = high_low(industry_df, \"total_profit\")[2]\n",
    "\n",
    "ax1.axhline(y=high, color='red', linestyle='-', linewidth=3, label='high')\n",
    "ax1.axhline(y=mean, color='green', linestyle='-', linewidth=3, label='mean')\n",
    "ax1.axhline(y=low, color='blue', linestyle='-', linewidth=3, label='low')\n",
    "\n",
    "plt.title(\"Investment performance according to MA tactics of the Banking Industry\", fontsize=18)\n",
    "plt.show()"
   ]
  },
  {
   "cell_type": "code",
   "execution_count": 13,
   "metadata": {},
   "outputs": [],
   "source": [
    "start_date = \"2016-01-01\"\n",
    "end_date = \"2023-08-18\"\n",
    "start_datetime = datetime.strptime(start_date, '%Y-%m-%d')\n",
    "end_datetime = datetime.strptime(end_date, '%Y-%m-%d')\n",
    "duration = (end_datetime - start_datetime).days\n",
    "vn30 = [\"ACB\", \"BCM\", \"BID\", \"BVH\", \"CTG\", \"FPT\", \"GAS\", \"GVR\", \"HDB\", \"HPG\", \"MBB\", \"MSN\", \"MWG\", \"PLX\", \"POW\", \"SAB\", \"SHB\", \"SSB\", \"SSI\", \"STB\",\n",
    "        \"TCB\", \"TPB\", \"VCB\", \"VHM\", \"VIB\", \"VIC\", \"VJC\", \"VNM\", \"VPB\", \"VRE\"]\n",
    "vn30_df = pd.DataFrame({'stock': [], 'total_command': [], 'total_holding_days': [], 'average_holding_days': [], 'total_profit': []})"
   ]
  },
  {
   "cell_type": "code",
   "execution_count": null,
   "metadata": {},
   "outputs": [],
   "source": [
    "for stock in vn30:\n",
    "    result = strategy_function(stock, start_date, end_date)\n",
    "    vn30_df = pd.concat([vn30_df, pd.DataFrame([result])], ignore_index = True)\n",
    "\n",
    "vn30_df = vn30_df.sort_values(by='total_profit', ascending=False)\n",
    "vn30_df = vn30_df.reset_index(drop=True)"
   ]
  },
  {
   "cell_type": "code",
   "execution_count": null,
   "metadata": {},
   "outputs": [],
   "source": [
    "fig, ax1 = plt.subplots(figsize=(18, 9))\n",
    "\n",
    "sns.barplot(data=vn30_df.loc[:14], x='stock', y='total_profit', color='#69b3a2')\n",
    "ax1.set_xlabel('Stock', fontsize=14)\n",
    "ax1.set_ylabel('Total Profit (%)', fontsize=14)\n",
    "\n",
    "for index, row in vn30_df.iterrows():\n",
    "    if index <= 14:\n",
    "        plt.text(index, row['total_profit'], str(row['total_profit']) + '%', ha='center', va='bottom')\n",
    "        plt.text(index, row['total_profit'] / 2, str(round(row['total_profit']/(duration/365), 2)) + '% per year', rotation='vertical', ha='center', va='center')\n",
    "\n",
    "high = high_low(vn30_df, \"total_profit\")[0]\n",
    "mean = high_low(vn30_df, \"total_profit\")[1]\n",
    "low = high_low(vn30_df, \"total_profit\")[2]\n",
    "\n",
    "ax1.axhline(y=high, color='red', linestyle='-', linewidth=3, label='high')\n",
    "ax1.axhline(y=mean, color='green', linestyle='-', linewidth=3, label='mean')\n",
    "ax1.axhline(y=low, color='blue', linestyle='-', linewidth=3, label='low')\n",
    "\n",
    "plt.title(\"Investment performance according to MA tactics of the VN30\", fontsize=18)\n",
    "plt.show()"
   ]
  }
 ],
 "metadata": {
  "kernelspec": {
   "display_name": "Python 3",
   "language": "python",
   "name": "python3"
  },
  "language_info": {
   "codemirror_mode": {
    "name": "ipython",
    "version": 3
   },
   "file_extension": ".py",
   "mimetype": "text/x-python",
   "name": "python",
   "nbconvert_exporter": "python",
   "pygments_lexer": "ipython3",
   "version": "3.11.4"
  },
  "orig_nbformat": 4
 },
 "nbformat": 4,
 "nbformat_minor": 2
}
